{
  "nbformat": 4,
  "nbformat_minor": 0,
  "metadata": {
    "colab": {
      "private_outputs": true,
      "provenance": [],
      "gpuType": "T4",
      "include_colab_link": true
    },
    "kernelspec": {
      "name": "python3",
      "display_name": "Python 3"
    },
    "language_info": {
      "name": "python"
    },
    "accelerator": "GPU"
  },
  "cells": [
    {
      "cell_type": "markdown",
      "metadata": {
        "id": "view-in-github",
        "colab_type": "text"
      },
      "source": [
        "<a href=\"https://colab.research.google.com/github/Praveen-Prabhu/code-generation/blob/main/Colab-TextGen-GPU.ipynb\" target=\"_parent\"><img src=\"https://colab.research.google.com/assets/colab-badge.svg\" alt=\"Open In Colab\"/></a>"
      ]
    },
    {
      "cell_type": "markdown",
      "source": [
        "# Module 1 - SMTSolvers - Output"
      ],
      "metadata": {
        "id": "AAk-LXhlf3SN"
      }
    },
    {
      "cell_type": "code",
      "source": [
        "import subprocess\n",
        "from typing import Tuple\n",
        "\n",
        "class SMTSolvers:\n",
        "    def __init__(self, timeout: int = 15, debug: bool = False):\n",
        "        \"\"\"\n",
        "        Initialize the SMTSolvers object with configuration parameters.\n",
        "\n",
        "        Args:\n",
        "            timeout: Maximum execution time in seconds for tested code\n",
        "            debug: Whether to print debug information\n",
        "        \"\"\"\n",
        "        self.timeout = timeout\n",
        "        self.debug = debug\n",
        "\n",
        "    def verify(self, code: str, test_code: str) -> Tuple[float, str]:\n",
        "        \"\"\"\n",
        "        Verifies generated code by running it against provided test code.\n",
        "\n",
        "        Args:\n",
        "            code: The generated solution code to test\n",
        "            test_code: The test code to validate the solution\n",
        "\n",
        "        Returns:\n",
        "            Tuple containing:\n",
        "                - reward score (float): 2.0 for passing tests, 0.0 for failing, -0.5 for timeout\n",
        "                - output (str): execution output or error message\n",
        "        \"\"\"\n",
        "        try:\n",
        "            # Clean up the test code if it's malformed\n",
        "            if isinstance(test_code, list) or (isinstance(test_code, str) and \",\" in test_code and len(test_code) < 100):\n",
        "                return 0.0, \"Warning: Test code appears to be malformed\"\n",
        "\n",
        "            # Combine the generated solution with the test code\n",
        "            full_code = f\"{code}\\n\\n{test_code}\"\n",
        "\n",
        "            if self.debug:\n",
        "                print(f\"Running code:\\n{full_code[:200]}...\")\n",
        "\n",
        "            # Create a temporary file to execute\n",
        "            with open(\"temp_test.py\", \"w\") as f:\n",
        "                f.write(full_code)\n",
        "\n",
        "            # Run the test file\n",
        "            result = subprocess.run(\n",
        "                [\"python3\", \"temp_test.py\"],\n",
        "                capture_output=True, text=True, timeout=self.timeout\n",
        "            )\n",
        "\n",
        "            # Check if execution was successful (no errors)\n",
        "            if result.returncode == 0:\n",
        "                if self.debug:\n",
        "                    print(\"Test passed successfully!\")\n",
        "                return 2.0, result.stdout  # Increased reward for correct execution\n",
        "            else:\n",
        "                if self.debug:\n",
        "                    print(f\"Test failed with error: {result.stderr}\")\n",
        "                return 0.0, result.stderr  # Test failed\n",
        "\n",
        "        except subprocess.TimeoutExpired:\n",
        "            if self.debug:\n",
        "                print(\"Execution timed out\")\n",
        "            return -0.5, \"Execution timed out\"  # Penalize timeouts more severely\n",
        "\n",
        "        except Exception as e:\n",
        "            if self.debug:\n",
        "                print(f\"Execution error: {str(e)}\")\n",
        "            return 0.0, str(e)  # Test failed\n",
        "\n",
        "solver = SMTSolvers(debug=True)"
      ],
      "metadata": {
        "id": "wLxWYkuOgAOK"
      },
      "execution_count": null,
      "outputs": []
    },
    {
      "cell_type": "markdown",
      "source": [
        "### ✅ Logically Correct Code"
      ],
      "metadata": {
        "id": "8YIx9eaRnfV7"
      }
    },
    {
      "cell_type": "code",
      "source": [
        "code = \"\"\"\n",
        "from typing import List\n",
        "\n",
        "def below_zero(operations: List[int]) -> bool:\n",
        "    # Initialize the balance to 0\n",
        "    balance = 0\n",
        "\n",
        "    # Iterate over each operation in the list\n",
        "    for operation in operations:\n",
        "        # Add the operation to the balance\n",
        "        balance += operation\n",
        "\n",
        "        # If the balance is less than 0, return True immediately\n",
        "        if balance < 0:\n",
        "            return True\n",
        "\n",
        "    # If we've iterated over all operations and the balance is non-negative, return False\n",
        "    return False\n",
        "\"\"\"\n",
        "\n",
        "test_code = \"\"\"\n",
        "def check(candidate):\n",
        "    assert candidate('(()()) ((())) () ((())()())') == [\n",
        "        '(()())', '((()))', '()', '((())()())'\n",
        "    ]\n",
        "    assert candidate('() (()) ((())) (((())))') == [\n",
        "        '()', '(())', '((()))', '(((())))'\n",
        "    ]\n",
        "    assert candidate('(()(())((())))') == [\n",
        "        '(()(())((())))'\n",
        "    ]\n",
        "    assert candidate('( ) (( )) (( )( ))') == ['()', '(())', '(()())']\n",
        "\"\"\"\n",
        "reward, output = solver.verify(code, test_code)\n",
        "print(f\"Reward: {reward}\")"
      ],
      "metadata": {
        "id": "P2h1yXsRgJb9"
      },
      "execution_count": null,
      "outputs": []
    },
    {
      "cell_type": "markdown",
      "source": [
        "### ❌ Logically Incorrect Code"
      ],
      "metadata": {
        "id": "k1YYmZDLnkqj"
      }
    },
    {
      "cell_type": "code",
      "source": [
        "code = \"\"\"\n",
        "def below_zero(operations: List[int]) -> bool:\n",
        "    # Initialize the balance to zero\n",
        "    balance = 0\n",
        "\n",
        "    # Iterate over each operation in the list\n",
        "    for operation in operations:\n",
        "        # Add the operation to the balance\n",
        "        balance += operation\n",
        "\n",
        "        # If the balance falls below zero, return True\n",
        "        if balance < 0:\n",
        "            return True\n",
        "\n",
        "    # If the function hasn't returned True after iterating over all operations, return False\n",
        "    return False\n",
        "\"\"\"\n",
        "\n",
        "test_code = \"\"\"\n",
        "def check(candidate):\n",
        "    assert candidate([]) == False\n",
        "    assert candidate([1, 2, -3, 1, 2, -3]) == False\n",
        "    assert candidate([1, 2, -4, 5, 6]) == True\n",
        "    assert candidate([1, -1, 2, -2, 5, -5, 4, -4]) == False\n",
        "    assert candidate([1, -1, 2, -2, 5, -5, 4, -5]) == True\n",
        "    assert candidate([1, -2, 2, -2, 5, -5, 4, -4]) == True\n",
        "\"\"\"\n",
        "\n",
        "reward, output = solver.verify(code, test_code)\n",
        "print(f\"Reward: {reward}\")"
      ],
      "metadata": {
        "id": "sOgKPh9Nmm_a"
      },
      "execution_count": null,
      "outputs": []
    },
    {
      "cell_type": "markdown",
      "source": [
        "# oobabooga/text-generation-webui\n",
        "\n",
        "After running both cells, a public gradio URL will appear at the bottom in around 10 minutes. You can optionally generate an API link.\n",
        "\n",
        "* Project page: https://github.com/oobabooga/text-generation-webui\n",
        "* Gradio server status: https://status.gradio.app/"
      ],
      "metadata": {
        "id": "MFQl6-FjSYtY"
      }
    },
    {
      "cell_type": "code",
      "source": [
        "#@title 1. Keep this tab alive to prevent Colab from disconnecting you { display-mode: \"form\" }\n",
        "\n",
        "#@markdown Press play on the music player that will appear below:\n",
        "%%html\n",
        "<audio src=\"https://oobabooga.github.io/silence.m4a\" controls>"
      ],
      "metadata": {
        "id": "f7TVVj_z4flw"
      },
      "execution_count": null,
      "outputs": []
    },
    {
      "cell_type": "markdown",
      "source": [
        "model_url: https://huggingface.co/PraveenPrabhu/codegen-llama-3.1-8b-grpo-merged-16bit\n",
        "\n",
        "branch: main"
      ],
      "metadata": {
        "id": "PGO03kx22T-E"
      }
    },
    {
      "cell_type": "code",
      "source": [
        "#@title 2. Launch the web UI\n",
        "\n",
        "#@markdown If unsure about the branch, write \"main\" or leave it blank.\n",
        "\n",
        "import os\n",
        "from pathlib import Path\n",
        "\n",
        "os.environ.pop('PYTHONPATH', None)\n",
        "os.environ.pop('MPLBACKEND', None)\n",
        "\n",
        "if Path.cwd().name != 'text-generation-webui':\n",
        "  print(\"\\033[1;32;1m\\n --> Installing the web UI. This will take a while, but after the initial setup, you can download and test as many models as you like.\\033[0;37;0m\\n\")\n",
        "\n",
        "  !git clone https://github.com/oobabooga/text-generation-webui\n",
        "  %cd text-generation-webui\n",
        "\n",
        "  # Install the project in an isolated environment\n",
        "  !GPU_CHOICE=A \\\n",
        "  USE_CUDA118=FALSE \\\n",
        "  LAUNCH_AFTER_INSTALL=FALSE \\\n",
        "  INSTALL_EXTENSIONS=FALSE \\\n",
        "  ./start_linux.sh\n",
        "\n",
        "# Parameters\n",
        "model_url = \"https://huggingface.co/PraveenPrabhu/codegen-llama-3.1-8b-grpo-merged-16bit\" #@param {type:\"string\"}\n",
        "branch = \"main\" #@param {type:\"string\"}\n",
        "command_line_flags = \"--n-gpu-layers 128 --load-in-4bit --use_double_quant --no_flash_attn\" #@param {type:\"string\"}\n",
        "api = True #@param {type:\"boolean\"}\n",
        "\n",
        "if api:\n",
        "  for param in ['--api', '--public-api']:\n",
        "    if param not in command_line_flags:\n",
        "      command_line_flags += f\" {param}\"\n",
        "\n",
        "model_url = model_url.strip()\n",
        "if model_url != \"\":\n",
        "    if not model_url.startswith('http'):\n",
        "        model_url = 'https://huggingface.co/' + model_url\n",
        "\n",
        "    # Download the model\n",
        "    url_parts = model_url.strip('/').strip().split('/')\n",
        "    output_folder = f\"{url_parts[-2]}_{url_parts[-1]}\"\n",
        "    branch = branch.strip('\"\\' ')\n",
        "    if branch.strip() not in ['', 'main']:\n",
        "        output_folder += f\"_{branch}\"\n",
        "        !python download-model.py {model_url} --branch {branch}\n",
        "    else:\n",
        "        !python download-model.py {model_url}\n",
        "else:\n",
        "    output_folder = \"\"\n",
        "\n",
        "# Start the web UI\n",
        "cmd = f\"./start_linux.sh {command_line_flags} --share\"\n",
        "if output_folder != \"\":\n",
        "    cmd += f\" --model {output_folder}\"\n",
        "\n",
        "!$cmd"
      ],
      "metadata": {
        "id": "LGQ8BiMuXMDG",
        "cellView": "form"
      },
      "execution_count": null,
      "outputs": []
    }
  ]
}